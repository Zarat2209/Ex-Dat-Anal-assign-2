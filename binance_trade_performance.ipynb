{
  "nbformat": 4,
  "nbformat_minor": 0,
  "metadata": {
    "colab": {
      "name": "binance trade performance.ipynb",
      "provenance": [],
      "collapsed_sections": [
        "KVzJj4wQ-5aX",
        "CELSvlMwoGf8"
      ],
      "toc_visible": true,
      "include_colab_link": true
    },
    "kernelspec": {
      "name": "python3",
      "display_name": "Python 3"
    }
  },
  "cells": [
    {
      "cell_type": "markdown",
      "metadata": {
        "id": "view-in-github",
        "colab_type": "text"
      },
      "source": [
        "<a href=\"https://colab.research.google.com/github/Zarat2209/Ex-Dat-Anal-assign-2/blob/master/binance_trade_performance.ipynb\" target=\"_parent\"><img src=\"https://colab.research.google.com/assets/colab-badge.svg\" alt=\"Open In Colab\"/></a>"
      ]
    },
    {
      "cell_type": "markdown",
      "metadata": {
        "id": "R-gqzQVU88G1"
      },
      "source": [
        "# Binance Trading Performance\n",
        "\n",
        "This notebook retrieves your trade data from Binance to calculate the pnl from your trading.\n",
        "\n",
        "The methodology for calculating PNL is:\n",
        "\n",
        "1. Calculate the total amount of net base asset purchased (or sold) and the total amount of quote asset spent (or received)\n",
        "2. Calculate the value of these changes based on current asset spot price\n",
        "3. Calculate the value of the fees paid out in the trades\n",
        "\n",
        "Note that this methodology is one way of trying to evaluate the benefit if your trading activity, i.e. doing something versus doing nothing.  This does not capture any changes in portfolio value due to general market movements that may result in the appreciation of the value of base assets and quote assets.\n",
        "\n",
        "## Instructions\n",
        "\n",
        "Step 1) Input your ***read only*** API keys\n",
        "\n",
        "Step 2) Input trading pair and start date\n",
        "\n",
        "Step 3) Select `Runtime` => `Run all`\n",
        "\n",
        "## Notes\n",
        "\n",
        "- `% gain and loss` is based on your current balance of base and quote asset.  This may not be a comprehensive figure if (1) you have made deposits/withdrawals within the period being analyzed, and (2) if you are trading multiple pairs with overlapping base and quote assets\n",
        "\n",
        "## Comments / bugs / suggestions\n",
        "\n",
        "Please email [carlo@hummingbot.io](mailto:carlol@hummingbot.io?subject=Colab:%20Performance%20Sheet)."
      ]
    },
    {
      "cell_type": "markdown",
      "metadata": {
        "id": "XPuIIVkdwU60"
      },
      "source": [
        "## Input API keys"
      ]
    },
    {
      "cell_type": "code",
      "metadata": {
        "id": "BP60fxYgC3N6"
      },
      "source": [
        "binance_api_key = \"**ENTER API KEY**\"\n",
        "binance_api_secret = \"**ENTER API SECRET**\"\n",
        "\n",
        "trading_pair = \"COTIUSDT\"\n",
        "START_TIME = \"2020-11-01 00:00:00\""
      ],
      "execution_count": 2,
      "outputs": []
    },
    {
      "cell_type": "markdown",
      "metadata": {
        "id": "_0QsIC-C-lKz"
      },
      "source": [
        "# Setup"
      ]
    },
    {
      "cell_type": "markdown",
      "metadata": {
        "id": "KVzJj4wQ-5aX"
      },
      "source": [
        "## Install dependencies"
      ]
    },
    {
      "cell_type": "code",
      "metadata": {
        "colab": {
          "base_uri": "https://localhost:8080/",
          "height": 1000
        },
        "id": "DbeniWuP-rSS",
        "outputId": "734c5214-49c0-406d-cf33-1a2b456ada5e"
      },
      "source": [
        "!pip install binance\n",
        "!pip install python-binance\n",
        "from binance.client import Client\n",
        "import pandas as pd\n",
        "import numpy as np\n",
        "from requests import get\n",
        "import json\n",
        "import plotly.graph_objects as go\n",
        "from IPython.core.display import display, HTML\n",
        "from datetime import datetime\n",
        "\n",
        "# Setup Binance connection\n",
        "client = Client(binance_api_key, binance_api_secret)\n",
        "\n",
        "# Set display\n",
        "pd.options.display.float_format = '{:,.2f}'.format\n",
        "start_dt = pd.to_datetime(START_TIME)\n",
        "\n",
        "import warnings\n",
        "warnings.filterwarnings(\"ignore\")"
      ],
      "execution_count": 1,
      "outputs": [
        {
          "output_type": "stream",
          "text": [
            "Collecting binance\n",
            "  Downloading https://files.pythonhosted.org/packages/23/b4/566165409e9c851128988a990aba6bf14ebdf37fd847d0047ad16ae3d11b/binance-0.3-py2.py3-none-any.whl\n",
            "Installing collected packages: binance\n",
            "Successfully installed binance-0.3\n",
            "Collecting python-binance\n",
            "  Downloading https://files.pythonhosted.org/packages/02/ba/d253c7d0bd5c81a6cccd57140f13925e13995aeb0070ff58decd22d44793/python_binance-0.7.5-py2.py3-none-any.whl\n",
            "Requirement already satisfied: requests in /usr/local/lib/python3.6/dist-packages (from python-binance) (2.23.0)\n",
            "Collecting Twisted\n",
            "\u001b[?25l  Downloading https://files.pythonhosted.org/packages/b7/04/1a664c9e5ec0224a1c1a154ddecaa4dc7b8967521bba225efcc41a03d5f3/Twisted-20.3.0-cp36-cp36m-manylinux1_x86_64.whl (3.1MB)\n",
            "\u001b[K     |████████████████████████████████| 3.1MB 7.1MB/s \n",
            "\u001b[?25hRequirement already satisfied: six in /usr/local/lib/python3.6/dist-packages (from python-binance) (1.15.0)\n",
            "Requirement already satisfied: certifi in /usr/local/lib/python3.6/dist-packages (from python-binance) (2020.11.8)\n",
            "Collecting dateparser\n",
            "\u001b[?25l  Downloading https://files.pythonhosted.org/packages/78/c4/b5ddc3eeac974d85055d88c1e6b62cc492fc1a93dbe3b66a45a756a7b807/dateparser-1.0.0-py2.py3-none-any.whl (279kB)\n",
            "\u001b[K     |████████████████████████████████| 286kB 22.9MB/s \n",
            "\u001b[?25hRequirement already satisfied: urllib3 in /usr/local/lib/python3.6/dist-packages (from python-binance) (1.24.3)\n",
            "Collecting autobahn\n",
            "\u001b[?25l  Downloading https://files.pythonhosted.org/packages/6f/2a/8874a5a32a56ecc9c859f1daa281ffd87ec6047e49ab30804a0b3b2707d8/autobahn-20.7.1-py2.py3-none-any.whl (1.5MB)\n",
            "\u001b[K     |████████████████████████████████| 1.5MB 25.6MB/s \n",
            "\u001b[?25hCollecting cryptography\n",
            "\u001b[?25l  Downloading https://files.pythonhosted.org/packages/4c/a2/6565c5271a79e3c96d7a079053b4d8408a740d4bf365f0f5f244a807bd09/cryptography-3.2.1-cp35-abi3-manylinux2010_x86_64.whl (2.6MB)\n",
            "\u001b[K     |████████████████████████████████| 2.6MB 22.0MB/s \n",
            "\u001b[?25hCollecting service-identity\n",
            "  Downloading https://files.pythonhosted.org/packages/e9/7c/2195b890023e098f9618d43ebc337d83c8b38d414326685339eb024db2f6/service_identity-18.1.0-py2.py3-none-any.whl\n",
            "Collecting pyOpenSSL\n",
            "\u001b[?25l  Downloading https://files.pythonhosted.org/packages/9e/de/f8342b68fa9e981d348039954657bdf681b2ab93de27443be51865ffa310/pyOpenSSL-19.1.0-py2.py3-none-any.whl (53kB)\n",
            "\u001b[K     |████████████████████████████████| 61kB 7.6MB/s \n",
            "\u001b[?25hRequirement already satisfied: idna<3,>=2.5 in /usr/local/lib/python3.6/dist-packages (from requests->python-binance) (2.10)\n",
            "Requirement already satisfied: chardet<4,>=3.0.2 in /usr/local/lib/python3.6/dist-packages (from requests->python-binance) (3.0.4)\n",
            "Collecting Automat>=0.3.0\n",
            "  Downloading https://files.pythonhosted.org/packages/dd/83/5f6f3c1a562674d65efc320257bdc0873ec53147835aeef7762fe7585273/Automat-20.2.0-py2.py3-none-any.whl\n",
            "Collecting hyperlink>=17.1.1\n",
            "\u001b[?25l  Downloading https://files.pythonhosted.org/packages/88/a5/74f77547e9b175eb894d4fec5c76b0c8176c045e5bf3ac6a4d4d3feab4bb/hyperlink-20.0.1-py2.py3-none-any.whl (48kB)\n",
            "\u001b[K     |████████████████████████████████| 51kB 6.6MB/s \n",
            "\u001b[?25hCollecting constantly>=15.1\n",
            "  Downloading https://files.pythonhosted.org/packages/b9/65/48c1909d0c0aeae6c10213340ce682db01b48ea900a7d9fce7a7910ff318/constantly-15.1.0-py2.py3-none-any.whl\n",
            "Collecting zope.interface>=4.4.2\n",
            "\u001b[?25l  Downloading https://files.pythonhosted.org/packages/82/b0/da8afd9b3bd50c7665ecdac062f182982af1173c9081f9af7261091c5588/zope.interface-5.2.0-cp36-cp36m-manylinux2010_x86_64.whl (236kB)\n",
            "\u001b[K     |████████████████████████████████| 245kB 47.1MB/s \n",
            "\u001b[?25hCollecting PyHamcrest!=1.10.0,>=1.9.0\n",
            "\u001b[?25l  Downloading https://files.pythonhosted.org/packages/40/16/e54cc65891f01cb62893540f44ffd3e8dab0a22443e1b438f1a9f5574bee/PyHamcrest-2.0.2-py3-none-any.whl (52kB)\n",
            "\u001b[K     |████████████████████████████████| 61kB 7.6MB/s \n",
            "\u001b[?25hRequirement already satisfied: attrs>=19.2.0 in /usr/local/lib/python3.6/dist-packages (from Twisted->python-binance) (20.3.0)\n",
            "Collecting incremental>=16.10.1\n",
            "  Downloading https://files.pythonhosted.org/packages/f5/1d/c98a587dc06e107115cf4a58b49de20b19222c83d75335a192052af4c4b7/incremental-17.5.0-py2.py3-none-any.whl\n",
            "Requirement already satisfied: pytz in /usr/local/lib/python3.6/dist-packages (from dateparser->python-binance) (2018.9)\n",
            "Requirement already satisfied: tzlocal in /usr/local/lib/python3.6/dist-packages (from dateparser->python-binance) (1.5.1)\n",
            "Requirement already satisfied: python-dateutil in /usr/local/lib/python3.6/dist-packages (from dateparser->python-binance) (2.8.1)\n",
            "Requirement already satisfied: regex!=2019.02.19 in /usr/local/lib/python3.6/dist-packages (from dateparser->python-binance) (2019.12.20)\n",
            "Collecting txaio>=20.3.1\n",
            "  Downloading https://files.pythonhosted.org/packages/4f/82/0cd8d81d57e55a598cd4cef10c6e971dbcaf437e4f138dc1624cf7c1388e/txaio-20.4.1-py2.py3-none-any.whl\n",
            "Requirement already satisfied: cffi!=1.11.3,>=1.8 in /usr/local/lib/python3.6/dist-packages (from cryptography->python-binance) (1.14.3)\n",
            "Requirement already satisfied: pyasn1 in /usr/local/lib/python3.6/dist-packages (from service-identity->python-binance) (0.4.8)\n",
            "Requirement already satisfied: pyasn1-modules in /usr/local/lib/python3.6/dist-packages (from service-identity->python-binance) (0.2.8)\n",
            "Requirement already satisfied: setuptools in /usr/local/lib/python3.6/dist-packages (from zope.interface>=4.4.2->Twisted->python-binance) (50.3.2)\n",
            "Requirement already satisfied: pycparser in /usr/local/lib/python3.6/dist-packages (from cffi!=1.11.3,>=1.8->cryptography->python-binance) (2.20)\n",
            "Installing collected packages: Automat, hyperlink, constantly, zope.interface, PyHamcrest, incremental, Twisted, dateparser, txaio, cryptography, autobahn, service-identity, pyOpenSSL, python-binance\n",
            "Successfully installed Automat-20.2.0 PyHamcrest-2.0.2 Twisted-20.3.0 autobahn-20.7.1 constantly-15.1.0 cryptography-3.2.1 dateparser-1.0.0 hyperlink-20.0.1 incremental-17.5.0 pyOpenSSL-19.1.0 python-binance-0.7.5 service-identity-18.1.0 txaio-20.4.1 zope.interface-5.2.0\n"
          ],
          "name": "stdout"
        },
        {
          "output_type": "error",
          "ename": "NameError",
          "evalue": "ignored",
          "traceback": [
            "\u001b[0;31m---------------------------------------------------------------------------\u001b[0m",
            "\u001b[0;31mNameError\u001b[0m                                 Traceback (most recent call last)",
            "\u001b[0;32m<ipython-input-1-37e3447ccc99>\u001b[0m in \u001b[0;36m<module>\u001b[0;34m()\u001b[0m\n\u001b[1;32m     11\u001b[0m \u001b[0;34m\u001b[0m\u001b[0m\n\u001b[1;32m     12\u001b[0m \u001b[0;31m# Setup Binance connection\u001b[0m\u001b[0;34m\u001b[0m\u001b[0;34m\u001b[0m\u001b[0;34m\u001b[0m\u001b[0m\n\u001b[0;32m---> 13\u001b[0;31m \u001b[0mclient\u001b[0m \u001b[0;34m=\u001b[0m \u001b[0mClient\u001b[0m\u001b[0;34m(\u001b[0m\u001b[0mbinance_api_key\u001b[0m\u001b[0;34m,\u001b[0m \u001b[0mbinance_api_secret\u001b[0m\u001b[0;34m)\u001b[0m\u001b[0;34m\u001b[0m\u001b[0;34m\u001b[0m\u001b[0m\n\u001b[0m\u001b[1;32m     14\u001b[0m \u001b[0;34m\u001b[0m\u001b[0m\n\u001b[1;32m     15\u001b[0m \u001b[0;31m# Set display\u001b[0m\u001b[0;34m\u001b[0m\u001b[0;34m\u001b[0m\u001b[0;34m\u001b[0m\u001b[0m\n",
            "\u001b[0;31mNameError\u001b[0m: name 'binance_api_key' is not defined"
          ]
        }
      ]
    },
    {
      "cell_type": "markdown",
      "metadata": {
        "id": "xarTx7yLkQ0t"
      },
      "source": [
        "# Run analysis"
      ]
    },
    {
      "cell_type": "markdown",
      "metadata": {
        "id": "9eNqiUDxwsqy"
      },
      "source": [
        "### Run performance analysis"
      ]
    },
    {
      "cell_type": "code",
      "metadata": {
        "colab": {
          "base_uri": "https://localhost:8080/",
          "height": 888
        },
        "id": "KVb0IVCuSLOE",
        "outputId": "43864fe1-5566-45c2-e793-b1c96d04762e"
      },
      "source": [
        "display(HTML(f\"<h1>{trading_pair}: {start_dt} to {datetime.utcnow().replace(microsecond=0)}</h1>\"))\n",
        "\n",
        "trading_pair_info = client.get_symbol_info(trading_pair)\n",
        "base_asset = trading_pair_info[\"baseAsset\"]\n",
        "quote_asset = trading_pair_info[\"quoteAsset\"]\n",
        "\n",
        "# Calculate current asset balances\n",
        "df = pd.DataFrame(columns=[\"asset\"], data=[base_asset, quote_asset])\n",
        "df[\"price\"] = df[\"asset\"].apply(lambda x: get_usd_price(x))\n",
        "df[\"balance\"] = df[\"asset\"].apply(lambda x: get_asset_balance(x))\n",
        "df[\"usd_value\"] = df[\"price\"] * df[\"balance\"]\n",
        "df.set_index(\"asset\", inplace=True, drop=True)\n",
        "\n",
        "base_asset_price = df.at[base_asset, \"price\"]\n",
        "quote_asset_price = df.at[quote_asset, \"price\"]\n",
        "\n",
        "total_balance_usd = df['usd_value'].sum()\n",
        "p_title(f\"Current balance: ${total_balance_usd:,.2f}\")\n",
        "p_df(df)\n",
        "\n",
        "# Fetch trades\n",
        "df_trades = get_binance_trades(trading_pair, start_dt)\n",
        "\n",
        "# Run performance analysis\n",
        "calc_performance(df_trades)"
      ],
      "execution_count": null,
      "outputs": [
        {
          "output_type": "display_data",
          "data": {
            "text/html": [
              "<h1>COTIUSDT: 2020-11-01 00:00:00 to 2020-11-20 06:05:58</h1>"
            ],
            "text/plain": [
              "<IPython.core.display.HTML object>"
            ]
          },
          "metadata": {
            "tags": []
          }
        },
        {
          "output_type": "display_data",
          "data": {
            "text/html": [
              "<h3>Current balance: $444.26</h3>"
            ],
            "text/plain": [
              "<IPython.core.display.HTML object>"
            ]
          },
          "metadata": {
            "tags": []
          }
        },
        {
          "output_type": "display_data",
          "data": {
            "text/html": [
              "<table border=\"1\" class=\"dataframe\">\n",
              "  <thead>\n",
              "    <tr style=\"text-align: right;\">\n",
              "      <th></th>\n",
              "      <th>price</th>\n",
              "      <th>balance</th>\n",
              "      <th>usd_value</th>\n",
              "    </tr>\n",
              "    <tr>\n",
              "      <th>asset</th>\n",
              "      <th></th>\n",
              "      <th></th>\n",
              "      <th></th>\n",
              "    </tr>\n",
              "  </thead>\n",
              "  <tbody>\n",
              "    <tr>\n",
              "      <th>COTI</th>\n",
              "      <td>0.04</td>\n",
              "      <td>5,478.61</td>\n",
              "      <td>213.01</td>\n",
              "    </tr>\n",
              "    <tr>\n",
              "      <th>USDT</th>\n",
              "      <td>1.00</td>\n",
              "      <td>231.25</td>\n",
              "      <td>231.25</td>\n",
              "    </tr>\n",
              "  </tbody>\n",
              "</table>"
            ],
            "text/plain": [
              "<IPython.core.display.HTML object>"
            ]
          },
          "metadata": {
            "tags": []
          }
        },
        {
          "output_type": "display_data",
          "data": {
            "text/html": [
              "<h3>Performance summary</h3>"
            ],
            "text/plain": [
              "<IPython.core.display.HTML object>"
            ]
          },
          "metadata": {
            "tags": []
          }
        },
        {
          "output_type": "stream",
          "text": [
            "first trade:          2020-11-01 00:07:33\n",
            "last trade:           2020-11-20 05:57:58\n",
            "total trades:         817\n",
            "- buys:               438 / 53.6%\n",
            "- sells:              379 / 46.4%\n",
            "total base traded:    797,664\n",
            "total quote traded:   27,315\n",
            "approx. usd volume:  $31,013  (total base * current base price)\n"
          ],
          "name": "stdout"
        },
        {
          "output_type": "display_data",
          "data": {
            "text/html": [
              "<table border=\"1\" class=\"dataframe\">\n",
              "  <thead>\n",
              "    <tr style=\"text-align: right;\">\n",
              "      <th></th>\n",
              "      <th>Base (COTI)</th>\n",
              "      <th>Quote (USDT)</th>\n",
              "      <th>Total</th>\n",
              "    </tr>\n",
              "    <tr>\n",
              "      <th>Label</th>\n",
              "      <th></th>\n",
              "      <th></th>\n",
              "      <th></th>\n",
              "    </tr>\n",
              "  </thead>\n",
              "  <tbody>\n",
              "    <tr>\n",
              "      <th>Acquired</th>\n",
              "      <td>398,103.80</td>\n",
              "      <td>13,703.34</td>\n",
              "      <td>-</td>\n",
              "    </tr>\n",
              "    <tr>\n",
              "      <th>Disposed</th>\n",
              "      <td>399,560.20</td>\n",
              "      <td>13,611.29</td>\n",
              "      <td>-</td>\n",
              "    </tr>\n",
              "    <tr>\n",
              "      <th>Delta</th>\n",
              "      <td>-1,456.40</td>\n",
              "      <td>92.05</td>\n",
              "      <td>-</td>\n",
              "    </tr>\n",
              "    <tr>\n",
              "      <th>Delta (usd)</th>\n",
              "      <td>-56.62</td>\n",
              "      <td>92.05</td>\n",
              "      <td>35.43</td>\n",
              "    </tr>\n",
              "    <tr>\n",
              "      <th>Trading fees (usd value)</th>\n",
              "      <td>-</td>\n",
              "      <td>-</td>\n",
              "      <td>-20.85</td>\n",
              "    </tr>\n",
              "    <tr>\n",
              "      <th>Net pnl (USD)</th>\n",
              "      <td>-</td>\n",
              "      <td>-</td>\n",
              "      <td>14.57</td>\n",
              "    </tr>\n",
              "    <tr>\n",
              "      <th>% gain/loss</th>\n",
              "      <td>-</td>\n",
              "      <td>-</td>\n",
              "      <td>3.4%</td>\n",
              "    </tr>\n",
              "  </tbody>\n",
              "</table>"
            ],
            "text/plain": [
              "<IPython.core.display.HTML object>"
            ]
          },
          "metadata": {
            "tags": []
          }
        },
        {
          "output_type": "display_data",
          "data": {
            "text/html": [
              "<h3>Trade commissions: $20.85</h3>"
            ],
            "text/plain": [
              "<IPython.core.display.HTML object>"
            ]
          },
          "metadata": {
            "tags": []
          }
        },
        {
          "output_type": "display_data",
          "data": {
            "text/html": [
              "<table border=\"1\" class=\"dataframe\">\n",
              "  <thead>\n",
              "    <tr style=\"text-align: right;\">\n",
              "      <th></th>\n",
              "      <th>commission</th>\n",
              "    </tr>\n",
              "    <tr>\n",
              "      <th>commissionAsset</th>\n",
              "      <th></th>\n",
              "    </tr>\n",
              "  </thead>\n",
              "  <tbody>\n",
              "    <tr>\n",
              "      <th>BNB</th>\n",
              "      <td>0.72</td>\n",
              "    </tr>\n",
              "    <tr>\n",
              "      <th>COTI</th>\n",
              "      <td>5.59</td>\n",
              "    </tr>\n",
              "    <tr>\n",
              "      <th>USDT</th>\n",
              "      <td>0.37</td>\n",
              "    </tr>\n",
              "  </tbody>\n",
              "</table>"
            ],
            "text/plain": [
              "<IPython.core.display.HTML object>"
            ]
          },
          "metadata": {
            "tags": []
          }
        }
      ]
    },
    {
      "cell_type": "code",
      "metadata": {
        "colab": {
          "base_uri": "https://localhost:8080/",
          "height": 606
        },
        "id": "c9EUkVCJsKW1",
        "outputId": "fd5deeb7-92bc-4dcc-93b6-35b5eb73c361"
      },
      "source": [
        "# Graph historical trades\n",
        "p_title(\"Historical trades\")\n",
        "print(f\"Amounts in {base_asset}\")\n",
        "graph_trades(df_trades)"
      ],
      "execution_count": null,
      "outputs": [
        {
          "output_type": "display_data",
          "data": {
            "text/html": [
              "<h3><h2>Historical trades</h2></h3>"
            ],
            "text/plain": [
              "<IPython.core.display.HTML object>"
            ]
          },
          "metadata": {
            "tags": []
          }
        },
        {
          "output_type": "stream",
          "text": [
            "Amounts in COTI\n"
          ],
          "name": "stdout"
        },
        {
          "output_type": "display_data",
          "data": {
            "text/html": [
              "<html>\n",
              "<head><meta charset=\"utf-8\" /></head>\n",
              "<body>\n",
              "    <div>\n",
              "            <script src=\"https://cdnjs.cloudflare.com/ajax/libs/mathjax/2.7.5/MathJax.js?config=TeX-AMS-MML_SVG\"></script><script type=\"text/javascript\">if (window.MathJax) {MathJax.Hub.Config({SVG: {font: \"STIX-Web\"}});}</script>\n",
              "                <script type=\"text/javascript\">window.PlotlyConfig = {MathJaxConfig: 'local'};</script>\n",
              "        <script src=\"https://cdn.plot.ly/plotly-latest.min.js\"></script>    \n",
              "            <div id=\"53db9211-f3ce-440f-be3c-2f1ba217c134\" class=\"plotly-graph-div\" style=\"height:525px; width:100%;\"></div>\n",
              "            <script type=\"text/javascript\">\n",
              "                \n",
              "                    window.PLOTLYENV=window.PLOTLYENV || {};\n",
              "                    \n",
              "                if (document.getElementById(\"53db9211-f3ce-440f-be3c-2f1ba217c134\")) {\n",
              "                    Plotly.newPlot(\n",
              "                        '53db9211-f3ce-440f-be3c-2f1ba217c134',\n",
              "                        [{\"name\": \"Buy\", \"type\": \"bar\", \"x\": [\"2020-11-01T00:00:00\", \"2020-11-01T01:00:00\", \"2020-11-01T02:00:00\", \"2020-11-01T03:00:00\", \"2020-11-01T04:00:00\", \"2020-11-01T05:00:00\", \"2020-11-01T06:00:00\", \"2020-11-01T07:00:00\", \"2020-11-01T08:00:00\", \"2020-11-01T09:00:00\", \"2020-11-01T10:00:00\", \"2020-11-01T11:00:00\", \"2020-11-01T12:00:00\", \"2020-11-01T13:00:00\", \"2020-11-01T14:00:00\", \"2020-11-01T15:00:00\", \"2020-11-01T16:00:00\", \"2020-11-01T17:00:00\", \"2020-11-01T18:00:00\", \"2020-11-01T19:00:00\", \"2020-11-01T20:00:00\", \"2020-11-01T21:00:00\", \"2020-11-01T22:00:00\", \"2020-11-01T23:00:00\", \"2020-11-02T00:00:00\", \"2020-11-02T01:00:00\", \"2020-11-02T02:00:00\", \"2020-11-02T03:00:00\", \"2020-11-02T04:00:00\", \"2020-11-02T05:00:00\", \"2020-11-02T06:00:00\", \"2020-11-02T07:00:00\", \"2020-11-02T08:00:00\", \"2020-11-02T09:00:00\", \"2020-11-02T10:00:00\", \"2020-11-02T11:00:00\", \"2020-11-02T12:00:00\", \"2020-11-02T13:00:00\", \"2020-11-02T14:00:00\", \"2020-11-02T15:00:00\", \"2020-11-02T16:00:00\", \"2020-11-02T17:00:00\", \"2020-11-02T18:00:00\", \"2020-11-02T19:00:00\", \"2020-11-02T20:00:00\", \"2020-11-02T21:00:00\", \"2020-11-02T22:00:00\", \"2020-11-02T23:00:00\", \"2020-11-03T00:00:00\", \"2020-11-03T01:00:00\", \"2020-11-03T02:00:00\", \"2020-11-03T03:00:00\", \"2020-11-03T04:00:00\", \"2020-11-03T05:00:00\", \"2020-11-03T06:00:00\", \"2020-11-03T07:00:00\", \"2020-11-03T08:00:00\", \"2020-11-03T09:00:00\", \"2020-11-03T10:00:00\", \"2020-11-03T11:00:00\", \"2020-11-03T12:00:00\", \"2020-11-03T13:00:00\", \"2020-11-03T14:00:00\", \"2020-11-03T15:00:00\", \"2020-11-03T16:00:00\", \"2020-11-03T17:00:00\", \"2020-11-03T18:00:00\", \"2020-11-03T19:00:00\", \"2020-11-03T20:00:00\", \"2020-11-03T21:00:00\", \"2020-11-03T22:00:00\", \"2020-11-03T23:00:00\", \"2020-11-04T00:00:00\", \"2020-11-04T01:00:00\", \"2020-11-04T02:00:00\", \"2020-11-04T03:00:00\", \"2020-11-04T04:00:00\", \"2020-11-04T05:00:00\", \"2020-11-04T06:00:00\", \"2020-11-04T07:00:00\", \"2020-11-04T08:00:00\", \"2020-11-04T09:00:00\", \"2020-11-04T10:00:00\", \"2020-11-04T11:00:00\", \"2020-11-04T12:00:00\", \"2020-11-04T13:00:00\", \"2020-11-04T14:00:00\", \"2020-11-04T15:00:00\", \"2020-11-04T16:00:00\", \"2020-11-04T17:00:00\", \"2020-11-04T18:00:00\", \"2020-11-04T19:00:00\", \"2020-11-04T20:00:00\", \"2020-11-04T21:00:00\", \"2020-11-04T22:00:00\", \"2020-11-04T23:00:00\", \"2020-11-05T00:00:00\", \"2020-11-05T01:00:00\", \"2020-11-05T02:00:00\", \"2020-11-05T03:00:00\", \"2020-11-05T04:00:00\", \"2020-11-05T05:00:00\", \"2020-11-05T06:00:00\", \"2020-11-05T07:00:00\", \"2020-11-05T08:00:00\", \"2020-11-05T09:00:00\", \"2020-11-05T10:00:00\", \"2020-11-05T11:00:00\", \"2020-11-05T12:00:00\", \"2020-11-05T13:00:00\", \"2020-11-05T14:00:00\", \"2020-11-05T15:00:00\", \"2020-11-05T16:00:00\", \"2020-11-05T17:00:00\", \"2020-11-05T18:00:00\", \"2020-11-05T19:00:00\", \"2020-11-05T20:00:00\", \"2020-11-05T21:00:00\", \"2020-11-05T22:00:00\", \"2020-11-05T23:00:00\", \"2020-11-06T00:00:00\", \"2020-11-06T01:00:00\", \"2020-11-06T02:00:00\", \"2020-11-06T03:00:00\", \"2020-11-06T04:00:00\", \"2020-11-06T05:00:00\", \"2020-11-06T06:00:00\", \"2020-11-06T07:00:00\", \"2020-11-06T08:00:00\", \"2020-11-06T09:00:00\", \"2020-11-06T10:00:00\", \"2020-11-06T11:00:00\", \"2020-11-06T12:00:00\", \"2020-11-06T13:00:00\", \"2020-11-06T14:00:00\", \"2020-11-06T15:00:00\", \"2020-11-06T16:00:00\", \"2020-11-06T17:00:00\", \"2020-11-06T18:00:00\", \"2020-11-06T19:00:00\", \"2020-11-06T20:00:00\", \"2020-11-06T21:00:00\", \"2020-11-06T22:00:00\", \"2020-11-06T23:00:00\", \"2020-11-07T00:00:00\", \"2020-11-07T01:00:00\", \"2020-11-07T02:00:00\", \"2020-11-07T03:00:00\", \"2020-11-07T04:00:00\", \"2020-11-07T05:00:00\", \"2020-11-07T06:00:00\", \"2020-11-07T07:00:00\", \"2020-11-07T08:00:00\", \"2020-11-07T09:00:00\", \"2020-11-07T10:00:00\", \"2020-11-07T11:00:00\", \"2020-11-07T12:00:00\", \"2020-11-07T13:00:00\", \"2020-11-07T14:00:00\", \"2020-11-07T15:00:00\", \"2020-11-07T16:00:00\", \"2020-11-07T17:00:00\", \"2020-11-07T18:00:00\", \"2020-11-07T19:00:00\", \"2020-11-07T20:00:00\", \"2020-11-07T21:00:00\", \"2020-11-07T22:00:00\", \"2020-11-07T23:00:00\", \"2020-11-08T00:00:00\", \"2020-11-08T01:00:00\", \"2020-11-08T02:00:00\", \"2020-11-08T03:00:00\", \"2020-11-08T04:00:00\", \"2020-11-08T05:00:00\", \"2020-11-08T06:00:00\", \"2020-11-08T07:00:00\", \"2020-11-08T08:00:00\", \"2020-11-08T09:00:00\", \"2020-11-08T10:00:00\", \"2020-11-08T11:00:00\", \"2020-11-08T12:00:00\", \"2020-11-08T13:00:00\", \"2020-11-08T14:00:00\", \"2020-11-08T15:00:00\", \"2020-11-08T16:00:00\", \"2020-11-08T17:00:00\", \"2020-11-08T18:00:00\", \"2020-11-08T19:00:00\", \"2020-11-08T20:00:00\", \"2020-11-08T21:00:00\", \"2020-11-08T22:00:00\", \"2020-11-08T23:00:00\", \"2020-11-09T00:00:00\", \"2020-11-09T01:00:00\", \"2020-11-09T02:00:00\", \"2020-11-09T03:00:00\", \"2020-11-09T04:00:00\", \"2020-11-09T05:00:00\", \"2020-11-09T06:00:00\", \"2020-11-09T07:00:00\", \"2020-11-09T08:00:00\", \"2020-11-09T09:00:00\", \"2020-11-09T10:00:00\", \"2020-11-09T11:00:00\", \"2020-11-09T12:00:00\", \"2020-11-09T13:00:00\", \"2020-11-09T14:00:00\", \"2020-11-09T15:00:00\", \"2020-11-09T16:00:00\", \"2020-11-09T17:00:00\", \"2020-11-09T18:00:00\", \"2020-11-09T19:00:00\", \"2020-11-09T20:00:00\", \"2020-11-09T21:00:00\", \"2020-11-09T22:00:00\", \"2020-11-09T23:00:00\", \"2020-11-10T00:00:00\", \"2020-11-10T01:00:00\", \"2020-11-10T02:00:00\", \"2020-11-10T03:00:00\", \"2020-11-10T04:00:00\", \"2020-11-10T05:00:00\", \"2020-11-10T06:00:00\", \"2020-11-10T07:00:00\", \"2020-11-10T08:00:00\", \"2020-11-10T09:00:00\", \"2020-11-10T10:00:00\", \"2020-11-10T11:00:00\", \"2020-11-10T12:00:00\", \"2020-11-10T13:00:00\", \"2020-11-10T14:00:00\", \"2020-11-10T15:00:00\", \"2020-11-10T16:00:00\", \"2020-11-10T17:00:00\", \"2020-11-10T18:00:00\", \"2020-11-10T19:00:00\", \"2020-11-10T20:00:00\", \"2020-11-10T21:00:00\", \"2020-11-10T22:00:00\", \"2020-11-10T23:00:00\", \"2020-11-11T00:00:00\", \"2020-11-11T01:00:00\", \"2020-11-11T02:00:00\", \"2020-11-11T03:00:00\", \"2020-11-11T04:00:00\", \"2020-11-11T05:00:00\", \"2020-11-11T06:00:00\", \"2020-11-11T07:00:00\", \"2020-11-11T08:00:00\", \"2020-11-11T09:00:00\", \"2020-11-11T10:00:00\", \"2020-11-11T11:00:00\", \"2020-11-11T12:00:00\", \"2020-11-11T13:00:00\", \"2020-11-11T14:00:00\", \"2020-11-11T15:00:00\", \"2020-11-11T16:00:00\", \"2020-11-11T17:00:00\", \"2020-11-11T18:00:00\", \"2020-11-11T19:00:00\", \"2020-11-11T20:00:00\", \"2020-11-11T21:00:00\", \"2020-11-11T22:00:00\", \"2020-11-11T23:00:00\", \"2020-11-12T00:00:00\", \"2020-11-12T01:00:00\", \"2020-11-12T02:00:00\", \"2020-11-12T03:00:00\", \"2020-11-12T04:00:00\", \"2020-11-12T05:00:00\", \"2020-11-12T06:00:00\", \"2020-11-12T07:00:00\", \"2020-11-12T08:00:00\", \"2020-11-12T09:00:00\", \"2020-11-12T10:00:00\", \"2020-11-12T11:00:00\", \"2020-11-12T12:00:00\", \"2020-11-12T13:00:00\", \"2020-11-12T14:00:00\", \"2020-11-12T15:00:00\", \"2020-11-12T16:00:00\", \"2020-11-12T17:00:00\", \"2020-11-12T18:00:00\", \"2020-11-12T19:00:00\", \"2020-11-12T20:00:00\", \"2020-11-12T21:00:00\", \"2020-11-12T22:00:00\", \"2020-11-12T23:00:00\", \"2020-11-13T00:00:00\", \"2020-11-13T01:00:00\", \"2020-11-13T02:00:00\", \"2020-11-13T03:00:00\", \"2020-11-13T04:00:00\", \"2020-11-13T05:00:00\", \"2020-11-13T06:00:00\", \"2020-11-13T07:00:00\", \"2020-11-13T08:00:00\", \"2020-11-13T09:00:00\", \"2020-11-13T10:00:00\", \"2020-11-13T11:00:00\", \"2020-11-13T12:00:00\", \"2020-11-13T13:00:00\", \"2020-11-13T14:00:00\", \"2020-11-13T15:00:00\", \"2020-11-13T16:00:00\", \"2020-11-13T17:00:00\", \"2020-11-13T18:00:00\", \"2020-11-13T19:00:00\", \"2020-11-13T20:00:00\", \"2020-11-13T21:00:00\", \"2020-11-13T22:00:00\", \"2020-11-13T23:00:00\", \"2020-11-14T00:00:00\", \"2020-11-14T01:00:00\", \"2020-11-14T02:00:00\", \"2020-11-14T03:00:00\", \"2020-11-14T04:00:00\", \"2020-11-14T05:00:00\", \"2020-11-14T06:00:00\", \"2020-11-14T07:00:00\", \"2020-11-14T08:00:00\", \"2020-11-14T09:00:00\", \"2020-11-14T10:00:00\", \"2020-11-14T11:00:00\", \"2020-11-14T12:00:00\", \"2020-11-14T13:00:00\", \"2020-11-14T14:00:00\", \"2020-11-14T15:00:00\", \"2020-11-14T16:00:00\", \"2020-11-14T17:00:00\", \"2020-11-14T18:00:00\", \"2020-11-14T19:00:00\", \"2020-11-14T20:00:00\", \"2020-11-14T21:00:00\", \"2020-11-14T22:00:00\", \"2020-11-14T23:00:00\", \"2020-11-15T00:00:00\", \"2020-11-15T01:00:00\", \"2020-11-15T02:00:00\", \"2020-11-15T03:00:00\", \"2020-11-15T04:00:00\", \"2020-11-15T05:00:00\", \"2020-11-15T06:00:00\", \"2020-11-15T07:00:00\", \"2020-11-15T08:00:00\", \"2020-11-15T09:00:00\", \"2020-11-15T10:00:00\", \"2020-11-15T11:00:00\", \"2020-11-15T12:00:00\", \"2020-11-15T13:00:00\", \"2020-11-15T14:00:00\", \"2020-11-15T15:00:00\", \"2020-11-15T16:00:00\", \"2020-11-15T17:00:00\", \"2020-11-15T18:00:00\", \"2020-11-15T19:00:00\", \"2020-11-15T20:00:00\", \"2020-11-15T21:00:00\", \"2020-11-15T22:00:00\", \"2020-11-15T23:00:00\", \"2020-11-16T00:00:00\", \"2020-11-16T01:00:00\", \"2020-11-16T02:00:00\", \"2020-11-16T03:00:00\", \"2020-11-16T04:00:00\", \"2020-11-16T05:00:00\", \"2020-11-16T06:00:00\", \"2020-11-16T07:00:00\", \"2020-11-16T08:00:00\", \"2020-11-16T09:00:00\", \"2020-11-16T10:00:00\", \"2020-11-16T11:00:00\", \"2020-11-16T12:00:00\", \"2020-11-16T13:00:00\", \"2020-11-16T14:00:00\", \"2020-11-16T15:00:00\", \"2020-11-16T16:00:00\", \"2020-11-16T17:00:00\", \"2020-11-16T18:00:00\", \"2020-11-16T19:00:00\", \"2020-11-16T20:00:00\", \"2020-11-16T21:00:00\", \"2020-11-16T22:00:00\", \"2020-11-16T23:00:00\", \"2020-11-17T00:00:00\", \"2020-11-17T01:00:00\", \"2020-11-17T02:00:00\", \"2020-11-17T03:00:00\", \"2020-11-17T04:00:00\", \"2020-11-17T05:00:00\", \"2020-11-17T06:00:00\", \"2020-11-17T07:00:00\", \"2020-11-17T08:00:00\", \"2020-11-17T09:00:00\", \"2020-11-17T10:00:00\", \"2020-11-17T11:00:00\", \"2020-11-17T12:00:00\", \"2020-11-17T13:00:00\", \"2020-11-17T14:00:00\", \"2020-11-17T15:00:00\", \"2020-11-17T16:00:00\", \"2020-11-17T17:00:00\", \"2020-11-17T18:00:00\", \"2020-11-17T19:00:00\", \"2020-11-17T20:00:00\", \"2020-11-17T21:00:00\", \"2020-11-17T22:00:00\", \"2020-11-17T23:00:00\", \"2020-11-18T00:00:00\", \"2020-11-18T01:00:00\", \"2020-11-18T02:00:00\", \"2020-11-18T03:00:00\", \"2020-11-18T04:00:00\", \"2020-11-18T05:00:00\", \"2020-11-18T06:00:00\", \"2020-11-18T07:00:00\", \"2020-11-18T08:00:00\", \"2020-11-18T09:00:00\", \"2020-11-18T10:00:00\", \"2020-11-18T11:00:00\", \"2020-11-18T12:00:00\", \"2020-11-18T13:00:00\", \"2020-11-18T14:00:00\", \"2020-11-18T15:00:00\", \"2020-11-18T16:00:00\", \"2020-11-18T17:00:00\", \"2020-11-18T18:00:00\", \"2020-11-18T19:00:00\", \"2020-11-18T20:00:00\", \"2020-11-18T21:00:00\", \"2020-11-18T22:00:00\", \"2020-11-18T23:00:00\", \"2020-11-19T00:00:00\", \"2020-11-19T01:00:00\", \"2020-11-19T02:00:00\", \"2020-11-19T03:00:00\", \"2020-11-19T04:00:00\", \"2020-11-19T05:00:00\", \"2020-11-19T06:00:00\", \"2020-11-19T07:00:00\", \"2020-11-19T08:00:00\", \"2020-11-19T09:00:00\", \"2020-11-19T10:00:00\", \"2020-11-19T11:00:00\", \"2020-11-19T12:00:00\", \"2020-11-19T13:00:00\", \"2020-11-19T14:00:00\", \"2020-11-19T15:00:00\", \"2020-11-19T16:00:00\", \"2020-11-19T17:00:00\", \"2020-11-19T18:00:00\", \"2020-11-19T19:00:00\", \"2020-11-19T20:00:00\", \"2020-11-19T21:00:00\", \"2020-11-19T22:00:00\", \"2020-11-19T23:00:00\", \"2020-11-20T00:00:00\", \"2020-11-20T01:00:00\", \"2020-11-20T02:00:00\", \"2020-11-20T03:00:00\", \"2020-11-20T04:00:00\", \"2020-11-20T05:00:00\"], \"y\": [0.0, 0.0, 0.0, 3355.5, 0.0, 0.0, 0.0, 0.0, 0.0, 0.0, 0.0, 0.0, 0.0, 0.0, 0.0, 0.0, 0.0, 0.0, 0.0, 0.0, 0.0, 1706.4, 0.0, 0.0, 1837.5, 0.0, 2665.7, 0.0, 0.0, 0.0, 3849.8, 0.0, 5027.5, 2070.0, 0.0, 0.0, 1631.4, 0.0, 2603.5, 0.0, 0.0, 0.0, 2237.7, 0.0, 0.0, 2856.4, 0.0, 2202.1, 0.0, 0.0, 0.0, 0.0, 0.0, 0.0, 1556.9, 4564.8, 0.0, 1300.1, 0.0, 2194.2, 0.0, 0.0, 0.0, 0.0, 1586.7, 0.0, 0.0, 2564.5, 0.0, 0.0, 933.7, 3178.7000000000003, 0.0, 927.0, 0.0, 0.0, 0.0, 0.0, 0.0, 0.0, 1368.4, 1099.9, 0.0, 0.0, 0.0, 3236.3999999999996, 1183.6, 966.4, 1188.8, 0.0, 3427.3, 0.0, 0.0, 0.0, 1474.1000000000001, 0.0, 0.0, 0.0, 1345.3, 0.0, 0.0, 0.0, 2289.0, 0.0, 0.0, 0.0, 0.0, 1321.2, 2371.6, 1095.0, 2272.4, 5522.3, 1495.6999999999998, 0.0, 0.0, 6625.8, 0.0, 0.0, 0.0, 1180.2, 2334.9, 505.2, 0.0, 0.0, 1173.7, 0.0, 2861.2, 1752.0, 6571.4, 2476.4, 1452.3000000000002, 530.8, 2864.3999999999996, 572.1, 2774.2, 2097.8999999999996, 1409.8000000000002, 0.0, 0.0, 1860.6, 3752.4999999999995, 0.0, 0.0, 0.0, 7361.200000000001, 1029.1, 3469.5, 590.4, 0.0, 0.0, 2825.6000000000004, 750.8, 0.0, 0.0, 0.0, 4099.1, 0.0, 1149.4, 5914.0, 1446.8, 7757.700000000001, 6605.1, 0.0, 0.0, 0.0, 0.0, 0.0, 0.0, 0.0, 0.0, 0.0, 0.0, 0.0, 0.0, 0.0, 0.0, 0.0, 0.0, 0.0, 0.0, 0.0, 0.0, 0.0, 0.0, 0.0, 0.0, 0.0, 327.0, 0.0, 1910.9, 0.0, 510.90000000000003, 0.0, 0.0, 0.0, 3129.1, 375.3, 617.9, 505.0, 902.3, 834.9, 2126.5, 1546.4, 1847.9, 0.0, 2322.4, 1421.9, 2300.8, 2876.1, 1348.3000000000002, 0.0, 0.0, 0.0, 0.0, 0.0, 1659.2, 1015.0999999999999, 0.0, 0.0, 0.0, 1679.1, 0.0, 3769.8999999999996, 3005.2, 2553.0000000000005, 510.1, 2498.1, 1795.7, 2324.8, 0.0, 1687.5, 4956.6, 0.0, 2020.0, 3436.0, 0.0, 3259.0, 628.9, 0.0, 1854.2, 0.0, 0.0, 0.0, 0.0, 0.0, 6927.400000000001, 1503.2, 465.5, 379.9, 669.3, 0.0, 0.0, 1528.3, 1247.2, 0.0, 0.0, 0.0, 5790.6, 597.8, 0.0, 805.5, 903.1, 0.0, 977.2, 1909.7, 0.0, 0.0, 6038.7, 576.4, 0.0, 2971.6000000000004, 0.0, 1856.0, 1236.4, 3707.6000000000004, 739.8, 1077.2, 1097.1, 532.8, 434.2, 1127.8, 0.0, 494.2, 0.0, 0.0, 0.0, 3369.6, 0.0, 2417.1, 0.0, 1775.1, 0.0, 1664.0, 0.0, 0.0, 0.0, 1333.4, 1080.9, 0.0, 0.0, 2753.4, 1260.6, 1907.4, 0.0, 1759.7, 7027.199999999999, 0.0, 0.0, 0.0, 1524.1999999999998, 571.5, 467.4, 384.1, 0.0, 0.0, 0.0, 319.1, 826.4, 0.0, 1507.6, 1252.1, 0.0, 1342.1, 0.0, 1245.3, 0.0, 539.9, 446.9, 370.8, 0.0, 0.0, 0.0, 0.0, 0.0, 1711.4, 3101.6, 0.0, 1346.6000000000001, 0.0, 2784.1, 0.0, 0.0, 987.4, 0.0, 0.0, 0.0, 1741.7, 4604.2, 0.0, 0.0, 0.0, 0.0, 0.0, 0.0, 0.0, 0.0, 0.0, 0.0, 0.0, 0.0, 0.0, 0.0, 0.0, 0.0, 0.0, 0.0, 0.0, 0.0, 0.0, 0.0, 0.0, 0.0, 0.0, 0.0, 0.0, 0.0, 0.0, 0.0, 0.0, 0.0, 0.0, 0.0, 0.0, 0.0, 0.0, 0.0, 3612.0, 983.4000000000001, 0.0, 0.0, 1203.0, 978.6, 0.0, 2182.4, 594.7, 886.9000000000001, 393.40000000000003, 1042.1, 0.0, 2559.9, 0.0, 1164.5, 0.0, 0.0, 0.0, 0.0, 1250.2, 0.0, 0.0, 1342.8, 0.0, 2676.8, 1239.6, 8228.699999999999, 749.5, 0.0, 1436.9, 865.0, 729.4, 0.0, 0.0, 651.1, 0.0, 4194.799999999999, 1381.3, 0.0, 0.0, 0.0, 0.0, 0.0, 0.0, 0.0, 0.0, 0.0, 0.0, 0.0, 1301.9, 0.0, 1082.4, 0.0, 0.0, 0.0, 0.0, 2520.0, 0.0, 1009.8, 1200.9, 0.0, 0.0, 1427.7, 0.0, 1494.4, 7590.099999999999, 0.0, 0.0, 4642.1, 0.0, 0.0, 938.2, 1024.9, 1055.3, 1594.2]}, {\"name\": \"Sell\", \"type\": \"bar\", \"x\": [\"2020-11-01T00:00:00\", \"2020-11-01T01:00:00\", \"2020-11-01T02:00:00\", \"2020-11-01T03:00:00\", \"2020-11-01T04:00:00\", \"2020-11-01T05:00:00\", \"2020-11-01T06:00:00\", \"2020-11-01T07:00:00\", \"2020-11-01T08:00:00\", \"2020-11-01T09:00:00\", \"2020-11-01T10:00:00\", \"2020-11-01T11:00:00\", \"2020-11-01T12:00:00\", \"2020-11-01T13:00:00\", \"2020-11-01T14:00:00\", \"2020-11-01T15:00:00\", \"2020-11-01T16:00:00\", \"2020-11-01T17:00:00\", \"2020-11-01T18:00:00\", \"2020-11-01T19:00:00\", \"2020-11-01T20:00:00\", \"2020-11-01T21:00:00\", \"2020-11-01T22:00:00\", \"2020-11-01T23:00:00\", \"2020-11-02T00:00:00\", \"2020-11-02T01:00:00\", \"2020-11-02T02:00:00\", \"2020-11-02T03:00:00\", \"2020-11-02T04:00:00\", \"2020-11-02T05:00:00\", \"2020-11-02T06:00:00\", \"2020-11-02T07:00:00\", \"2020-11-02T08:00:00\", \"2020-11-02T09:00:00\", \"2020-11-02T10:00:00\", \"2020-11-02T11:00:00\", \"2020-11-02T12:00:00\", \"2020-11-02T13:00:00\", \"2020-11-02T14:00:00\", \"2020-11-02T15:00:00\", \"2020-11-02T16:00:00\", \"2020-11-02T17:00:00\", \"2020-11-02T18:00:00\", \"2020-11-02T19:00:00\", \"2020-11-02T20:00:00\", \"2020-11-02T21:00:00\", \"2020-11-02T22:00:00\", \"2020-11-02T23:00:00\", \"2020-11-03T00:00:00\", \"2020-11-03T01:00:00\", \"2020-11-03T02:00:00\", \"2020-11-03T03:00:00\", \"2020-11-03T04:00:00\", \"2020-11-03T05:00:00\", \"2020-11-03T06:00:00\", \"2020-11-03T07:00:00\", \"2020-11-03T08:00:00\", \"2020-11-03T09:00:00\", \"2020-11-03T10:00:00\", \"2020-11-03T11:00:00\", \"2020-11-03T12:00:00\", \"2020-11-03T13:00:00\", \"2020-11-03T14:00:00\", \"2020-11-03T15:00:00\", \"2020-11-03T16:00:00\", \"2020-11-03T17:00:00\", \"2020-11-03T18:00:00\", \"2020-11-03T19:00:00\", \"2020-11-03T20:00:00\", \"2020-11-03T21:00:00\", \"2020-11-03T22:00:00\", \"2020-11-03T23:00:00\", \"2020-11-04T00:00:00\", \"2020-11-04T01:00:00\", \"2020-11-04T02:00:00\", \"2020-11-04T03:00:00\", \"2020-11-04T04:00:00\", \"2020-11-04T05:00:00\", \"2020-11-04T06:00:00\", \"2020-11-04T07:00:00\", \"2020-11-04T08:00:00\", \"2020-11-04T09:00:00\", \"2020-11-04T10:00:00\", \"2020-11-04T11:00:00\", \"2020-11-04T12:00:00\", \"2020-11-04T13:00:00\", \"2020-11-04T14:00:00\", \"2020-11-04T15:00:00\", \"2020-11-04T16:00:00\", \"2020-11-04T17:00:00\", \"2020-11-04T18:00:00\", \"2020-11-04T19:00:00\", \"2020-11-04T20:00:00\", \"2020-11-04T21:00:00\", \"2020-11-04T22:00:00\", \"2020-11-04T23:00:00\", \"2020-11-05T00:00:00\", \"2020-11-05T01:00:00\", \"2020-11-05T02:00:00\", \"2020-11-05T03:00:00\", \"2020-11-05T04:00:00\", \"2020-11-05T05:00:00\", \"2020-11-05T06:00:00\", \"2020-11-05T07:00:00\", \"2020-11-05T08:00:00\", \"2020-11-05T09:00:00\", \"2020-11-05T10:00:00\", \"2020-11-05T11:00:00\", \"2020-11-05T12:00:00\", \"2020-11-05T13:00:00\", \"2020-11-05T14:00:00\", \"2020-11-05T15:00:00\", \"2020-11-05T16:00:00\", \"2020-11-05T17:00:00\", \"2020-11-05T18:00:00\", \"2020-11-05T19:00:00\", \"2020-11-05T20:00:00\", \"2020-11-05T21:00:00\", \"2020-11-05T22:00:00\", \"2020-11-05T23:00:00\", \"2020-11-06T00:00:00\", \"2020-11-06T01:00:00\", \"2020-11-06T02:00:00\", \"2020-11-06T03:00:00\", \"2020-11-06T04:00:00\", \"2020-11-06T05:00:00\", \"2020-11-06T06:00:00\", \"2020-11-06T07:00:00\", \"2020-11-06T08:00:00\", \"2020-11-06T09:00:00\", \"2020-11-06T10:00:00\", \"2020-11-06T11:00:00\", \"2020-11-06T12:00:00\", \"2020-11-06T13:00:00\", \"2020-11-06T14:00:00\", \"2020-11-06T15:00:00\", \"2020-11-06T16:00:00\", \"2020-11-06T17:00:00\", \"2020-11-06T18:00:00\", \"2020-11-06T19:00:00\", \"2020-11-06T20:00:00\", \"2020-11-06T21:00:00\", \"2020-11-06T22:00:00\", \"2020-11-06T23:00:00\", \"2020-11-07T00:00:00\", \"2020-11-07T01:00:00\", \"2020-11-07T02:00:00\", \"2020-11-07T03:00:00\", \"2020-11-07T04:00:00\", \"2020-11-07T05:00:00\", \"2020-11-07T06:00:00\", \"2020-11-07T07:00:00\", \"2020-11-07T08:00:00\", \"2020-11-07T09:00:00\", \"2020-11-07T10:00:00\", \"2020-11-07T11:00:00\", \"2020-11-07T12:00:00\", \"2020-11-07T13:00:00\", \"2020-11-07T14:00:00\", \"2020-11-07T15:00:00\", \"2020-11-07T16:00:00\", \"2020-11-07T17:00:00\", \"2020-11-07T18:00:00\", \"2020-11-07T19:00:00\", \"2020-11-07T20:00:00\", \"2020-11-07T21:00:00\", \"2020-11-07T22:00:00\", \"2020-11-07T23:00:00\", \"2020-11-08T00:00:00\", \"2020-11-08T01:00:00\", \"2020-11-08T02:00:00\", \"2020-11-08T03:00:00\", \"2020-11-08T04:00:00\", \"2020-11-08T05:00:00\", \"2020-11-08T06:00:00\", \"2020-11-08T07:00:00\", \"2020-11-08T08:00:00\", \"2020-11-08T09:00:00\", \"2020-11-08T10:00:00\", \"2020-11-08T11:00:00\", \"2020-11-08T12:00:00\", \"2020-11-08T13:00:00\", \"2020-11-08T14:00:00\", \"2020-11-08T15:00:00\", \"2020-11-08T16:00:00\", \"2020-11-08T17:00:00\", \"2020-11-08T18:00:00\", \"2020-11-08T19:00:00\", \"2020-11-08T20:00:00\", \"2020-11-08T21:00:00\", \"2020-11-08T22:00:00\", \"2020-11-08T23:00:00\", \"2020-11-09T00:00:00\", \"2020-11-09T01:00:00\", \"2020-11-09T02:00:00\", \"2020-11-09T03:00:00\", \"2020-11-09T04:00:00\", \"2020-11-09T05:00:00\", \"2020-11-09T06:00:00\", \"2020-11-09T07:00:00\", \"2020-11-09T08:00:00\", \"2020-11-09T09:00:00\", \"2020-11-09T10:00:00\", \"2020-11-09T11:00:00\", \"2020-11-09T12:00:00\", \"2020-11-09T13:00:00\", \"2020-11-09T14:00:00\", \"2020-11-09T15:00:00\", \"2020-11-09T16:00:00\", \"2020-11-09T17:00:00\", \"2020-11-09T18:00:00\", \"2020-11-09T19:00:00\", \"2020-11-09T20:00:00\", \"2020-11-09T21:00:00\", \"2020-11-09T22:00:00\", \"2020-11-09T23:00:00\", \"2020-11-10T00:00:00\", \"2020-11-10T01:00:00\", \"2020-11-10T02:00:00\", \"2020-11-10T03:00:00\", \"2020-11-10T04:00:00\", \"2020-11-10T05:00:00\", \"2020-11-10T06:00:00\", \"2020-11-10T07:00:00\", \"2020-11-10T08:00:00\", \"2020-11-10T09:00:00\", \"2020-11-10T10:00:00\", \"2020-11-10T11:00:00\", \"2020-11-10T12:00:00\", \"2020-11-10T13:00:00\", \"2020-11-10T14:00:00\", \"2020-11-10T15:00:00\", \"2020-11-10T16:00:00\", \"2020-11-10T17:00:00\", \"2020-11-10T18:00:00\", \"2020-11-10T19:00:00\", \"2020-11-10T20:00:00\", \"2020-11-10T21:00:00\", \"2020-11-10T22:00:00\", \"2020-11-10T23:00:00\", \"2020-11-11T00:00:00\", \"2020-11-11T01:00:00\", \"2020-11-11T02:00:00\", \"2020-11-11T03:00:00\", \"2020-11-11T04:00:00\", \"2020-11-11T05:00:00\", \"2020-11-11T06:00:00\", \"2020-11-11T07:00:00\", \"2020-11-11T08:00:00\", \"2020-11-11T09:00:00\", \"2020-11-11T10:00:00\", \"2020-11-11T11:00:00\", \"2020-11-11T12:00:00\", \"2020-11-11T13:00:00\", \"2020-11-11T14:00:00\", \"2020-11-11T15:00:00\", \"2020-11-11T16:00:00\", \"2020-11-11T17:00:00\", \"2020-11-11T18:00:00\", \"2020-11-11T19:00:00\", \"2020-11-11T20:00:00\", \"2020-11-11T21:00:00\", \"2020-11-11T22:00:00\", \"2020-11-11T23:00:00\", \"2020-11-12T00:00:00\", \"2020-11-12T01:00:00\", \"2020-11-12T02:00:00\", \"2020-11-12T03:00:00\", \"2020-11-12T04:00:00\", \"2020-11-12T05:00:00\", \"2020-11-12T06:00:00\", \"2020-11-12T07:00:00\", \"2020-11-12T08:00:00\", \"2020-11-12T09:00:00\", \"2020-11-12T10:00:00\", \"2020-11-12T11:00:00\", \"2020-11-12T12:00:00\", \"2020-11-12T13:00:00\", \"2020-11-12T14:00:00\", \"2020-11-12T15:00:00\", \"2020-11-12T16:00:00\", \"2020-11-12T17:00:00\", \"2020-11-12T18:00:00\", \"2020-11-12T19:00:00\", \"2020-11-12T20:00:00\", \"2020-11-12T21:00:00\", \"2020-11-12T22:00:00\", \"2020-11-12T23:00:00\", \"2020-11-13T00:00:00\", \"2020-11-13T01:00:00\", \"2020-11-13T02:00:00\", \"2020-11-13T03:00:00\", \"2020-11-13T04:00:00\", \"2020-11-13T05:00:00\", \"2020-11-13T06:00:00\", \"2020-11-13T07:00:00\", \"2020-11-13T08:00:00\", \"2020-11-13T09:00:00\", \"2020-11-13T10:00:00\", \"2020-11-13T11:00:00\", \"2020-11-13T12:00:00\", \"2020-11-13T13:00:00\", \"2020-11-13T14:00:00\", \"2020-11-13T15:00:00\", \"2020-11-13T16:00:00\", \"2020-11-13T17:00:00\", \"2020-11-13T18:00:00\", \"2020-11-13T19:00:00\", \"2020-11-13T20:00:00\", \"2020-11-13T21:00:00\", \"2020-11-13T22:00:00\", \"2020-11-13T23:00:00\", \"2020-11-14T00:00:00\", \"2020-11-14T01:00:00\", \"2020-11-14T02:00:00\", \"2020-11-14T03:00:00\", \"2020-11-14T04:00:00\", \"2020-11-14T05:00:00\", \"2020-11-14T06:00:00\", \"2020-11-14T07:00:00\", \"2020-11-14T08:00:00\", \"2020-11-14T09:00:00\", \"2020-11-14T10:00:00\", \"2020-11-14T11:00:00\", \"2020-11-14T12:00:00\", \"2020-11-14T13:00:00\", \"2020-11-14T14:00:00\", \"2020-11-14T15:00:00\", \"2020-11-14T16:00:00\", \"2020-11-14T17:00:00\", \"2020-11-14T18:00:00\", \"2020-11-14T19:00:00\", \"2020-11-14T20:00:00\", \"2020-11-14T21:00:00\", \"2020-11-14T22:00:00\", \"2020-11-14T23:00:00\", \"2020-11-15T00:00:00\", \"2020-11-15T01:00:00\", \"2020-11-15T02:00:00\", \"2020-11-15T03:00:00\", \"2020-11-15T04:00:00\", \"2020-11-15T05:00:00\", \"2020-11-15T06:00:00\", \"2020-11-15T07:00:00\", \"2020-11-15T08:00:00\", \"2020-11-15T09:00:00\", \"2020-11-15T10:00:00\", \"2020-11-15T11:00:00\", \"2020-11-15T12:00:00\", \"2020-11-15T13:00:00\", \"2020-11-15T14:00:00\", \"2020-11-15T15:00:00\", \"2020-11-15T16:00:00\", \"2020-11-15T17:00:00\", \"2020-11-15T18:00:00\", \"2020-11-15T19:00:00\", \"2020-11-15T20:00:00\", \"2020-11-15T21:00:00\", \"2020-11-15T22:00:00\", \"2020-11-15T23:00:00\", \"2020-11-16T00:00:00\", \"2020-11-16T01:00:00\", \"2020-11-16T02:00:00\", \"2020-11-16T03:00:00\", \"2020-11-16T04:00:00\", \"2020-11-16T05:00:00\", \"2020-11-16T06:00:00\", \"2020-11-16T07:00:00\", \"2020-11-16T08:00:00\", \"2020-11-16T09:00:00\", \"2020-11-16T10:00:00\", \"2020-11-16T11:00:00\", \"2020-11-16T12:00:00\", \"2020-11-16T13:00:00\", \"2020-11-16T14:00:00\", \"2020-11-16T15:00:00\", \"2020-11-16T16:00:00\", \"2020-11-16T17:00:00\", \"2020-11-16T18:00:00\", \"2020-11-16T19:00:00\", \"2020-11-16T20:00:00\", \"2020-11-16T21:00:00\", \"2020-11-16T22:00:00\", \"2020-11-16T23:00:00\", \"2020-11-17T00:00:00\", \"2020-11-17T01:00:00\", \"2020-11-17T02:00:00\", \"2020-11-17T03:00:00\", \"2020-11-17T04:00:00\", \"2020-11-17T05:00:00\", \"2020-11-17T06:00:00\", \"2020-11-17T07:00:00\", \"2020-11-17T08:00:00\", \"2020-11-17T09:00:00\", \"2020-11-17T10:00:00\", \"2020-11-17T11:00:00\", \"2020-11-17T12:00:00\", \"2020-11-17T13:00:00\", \"2020-11-17T14:00:00\", \"2020-11-17T15:00:00\", \"2020-11-17T16:00:00\", \"2020-11-17T17:00:00\", \"2020-11-17T18:00:00\", \"2020-11-17T19:00:00\", \"2020-11-17T20:00:00\", \"2020-11-17T21:00:00\", \"2020-11-17T22:00:00\", \"2020-11-17T23:00:00\", \"2020-11-18T00:00:00\", \"2020-11-18T01:00:00\", \"2020-11-18T02:00:00\", \"2020-11-18T03:00:00\", \"2020-11-18T04:00:00\", \"2020-11-18T05:00:00\", \"2020-11-18T06:00:00\", \"2020-11-18T07:00:00\", \"2020-11-18T08:00:00\", \"2020-11-18T09:00:00\", \"2020-11-18T10:00:00\", \"2020-11-18T11:00:00\", \"2020-11-18T12:00:00\", \"2020-11-18T13:00:00\", \"2020-11-18T14:00:00\", \"2020-11-18T15:00:00\", \"2020-11-18T16:00:00\", \"2020-11-18T17:00:00\", \"2020-11-18T18:00:00\", \"2020-11-18T19:00:00\", \"2020-11-18T20:00:00\", \"2020-11-18T21:00:00\", \"2020-11-18T22:00:00\", \"2020-11-18T23:00:00\", \"2020-11-19T00:00:00\", \"2020-11-19T01:00:00\", \"2020-11-19T02:00:00\", \"2020-11-19T03:00:00\", \"2020-11-19T04:00:00\", \"2020-11-19T05:00:00\", \"2020-11-19T06:00:00\", \"2020-11-19T07:00:00\", \"2020-11-19T08:00:00\", \"2020-11-19T09:00:00\", \"2020-11-19T10:00:00\", \"2020-11-19T11:00:00\", \"2020-11-19T12:00:00\", \"2020-11-19T13:00:00\", \"2020-11-19T14:00:00\", \"2020-11-19T15:00:00\", \"2020-11-19T16:00:00\", \"2020-11-19T17:00:00\", \"2020-11-19T18:00:00\", \"2020-11-19T19:00:00\", \"2020-11-19T20:00:00\", \"2020-11-19T21:00:00\", \"2020-11-19T22:00:00\", \"2020-11-19T23:00:00\", \"2020-11-20T00:00:00\", \"2020-11-20T01:00:00\", \"2020-11-20T02:00:00\", \"2020-11-20T03:00:00\", \"2020-11-20T04:00:00\", \"2020-11-20T05:00:00\"], \"y\": [-1315.8, -0.0, -0.0, -0.0, -0.0, -0.0, -0.0, -0.0, -0.0, -0.0, -0.0, -0.0, -0.0, -6134.900000000001, -0.0, -0.0, -0.0, -1344.6999999999998, -0.0, -0.0, -0.0, -0.0, -0.0, -381.8, -2002.3, -0.0, -0.0, -0.0, -1039.1, -0.0, -3015.0, -997.2, -0.0, -1765.6, -0.0, -1819.6, -1950.4, -1404.9, -3564.9, -0.0, -946.5, -0.0, -0.0, -0.0, -0.0, -0.0, -0.0, -1711.2, -0.0, -0.0, -437.3, -0.0, -5137.400000000001, -1656.4, -0.0, -0.0, -1572.2, -3207.8, -1708.0, -2146.3, -632.4, -512.3, -0.0, -0.0, -0.0, -0.0, -0.0, -715.8, -0.0, -0.0, -0.0, -0.0, -1832.8, -0.0, -3660.0, -977.9, -0.0, -0.0, -788.6, -0.0, -0.0, -0.0, -0.0, -0.0, -0.0, -0.0, -4733.6, -0.0, -4913.500000000001, -2013.7000000000003, -804.7, -0.0, -0.0, -649.1, -809.2, -0.0, -0.0, -0.0, -906.1, -0.0, -0.0, -0.0, -0.0, -0.0, -2550.9, -0.0, -0.0, -0.0, -1358.9, -1108.0, -3203.6000000000004, -2810.3999999999996, -2840.8, -1210.5, -2898.1000000000004, -736.9, -1559.5, -1264.3, -1015.2, -0.0, -0.0, -1589.6, -1237.2, -1009.1, -1037.3, -848.5, -0.0, -5346.9, -1634.3, -2771.0, -1471.0, -0.0, -1576.0, -1682.0, -1607.9, -1814.0, -6631.299999999999, -3869.0, -0.0, -0.0, -0.0, -2613.1, -0.0, -0.0, -4916.099999999999, -2369.1, -947.0, -0.0, -0.0, -3364.6000000000004, -885.0, -3055.3999999999996, -815.3, -0.0, -0.0, -2157.9, -1054.3, -0.0, -1829.0, -6152.0, -9683.099999999999, -676.7, -33.8, -0.0, -0.0, -0.0, -0.0, -0.0, -0.0, -0.0, -0.0, -0.0, -0.0, -0.0, -0.0, -0.0, -0.0, -0.0, -0.0, -0.0, -0.0, -0.0, -0.0, -0.0, -0.0, -0.0, -0.0, -3134.8, -0.0, -0.0, -0.0, -0.0, -1588.0, -0.0, -1290.0, -0.0, -0.0, -1692.6, -0.0, -0.0, -3167.0, -4349.0, -1198.2, -0.0, -1320.2, -1492.5, -0.0, -0.0, -5276.0, -6138.0, -0.0, -787.7, -0.0, -420.1, -0.0, -658.8, -725.4, -1087.5, -0.0, -0.0, -397.4, -0.0, -929.3, -2913.8, -3745.3, -979.2, -1856.3, -1346.9, -3143.8, -2055.9, -1186.9, -0.0, -1550.8, -3747.6, -935.4, -1421.0, -2099.1000000000004, -1489.6, -3952.9000000000005, -3078.4999999999995, -0.0, -0.0, -0.0, -0.0, -0.0, -0.0, -1542.3, -0.0, -0.0, -0.0, -0.0, -7117.1, -0.0, -0.0, -2740.3999999999996, -0.0, -479.1, -392.7, -1719.5, -0.0, -1341.0, -1266.3, -0.0, -1198.9, -0.0, -3581.1, -0.0, -3749.0, -1226.9, -0.0, -1772.9, -0.0, -1208.0, -0.0, -3394.1, -0.0, -1731.2, -0.0, -1802.1, -0.0, -0.0, -0.0, -3434.8, -0.0, -0.0, -0.0, -2980.7, -0.0, -3193.8999999999996, -0.0, -0.0, -1510.6, -0.0, -0.0, -0.0, -4919.0, -0.0, -0.0, -2026.1, -0.0, -0.0, -3721.3, -3890.5, -799.0, -752.7, -3154.2, -0.0, -0.0, -0.0, -0.0, -0.0, -0.0, -0.0, -0.0, -0.0, -0.0, -0.0, -3158.5, -0.0, -1433.0, -0.0, -0.0, -1527.9, -0.0, -1506.7, -0.0, -0.0, -0.0, -0.0, -4239.0, -3787.0999999999995, -0.0, -0.0, -0.0, -0.0, -0.0, -2071.5, -1533.9, -0.0, -0.0, -0.0, -0.0, -1223.4, -3147.6, -0.0, -2153.0, -1034.2, -0.0, -4373.4, -0.0, -0.0, -0.0, -0.0, -0.0, -0.0, -0.0, -0.0, -0.0, -0.0, -0.0, -0.0, -0.0, -0.0, -0.0, -0.0, -0.0, -0.0, -0.0, -0.0, -0.0, -0.0, -0.0, -0.0, -0.0, -0.0, -0.0, -0.0, -0.0, -0.0, -0.0, -0.0, -0.0, -0.0, -0.0, -0.0, -442.3, -0.0, -0.0, -1195.4, -980.3, -0.0, -0.0, -1051.8, -0.0, -0.0, -0.0, -1745.2, -1614.8, -0.0, -0.0, -0.0, -1664.6999999999998, -0.0, -1686.7, -2513.9, -0.0, -919.2, -981.2, -803.5, -0.0, -603.5, -2763.3, -982.2, -3530.7999999999997, -0.0, -0.0, -1755.3, -3273.4, -0.0, -0.0, -0.0, -0.0, -2759.1, -2924.0, -0.0, -2704.3, -0.0, -1018.7, -0.0, -0.0, -0.0, -844.6, -0.0, -0.0, -0.0, -0.0, -0.0, -0.0, -0.0, -0.0, -1096.9, -0.0, -909.5, -0.0, -0.0, -1200.6, -2141.5, -1002.2, -0.0, -1526.3000000000002, -0.0, -1808.0, -4080.0, -0.0, -2545.3, -3867.7999999999997, -0.0, -0.0, -0.0, -2629.3, -0.0, -2560.9]}],\n",
              "                        {\"barmode\": \"relative\", \"legend\": {\"orientation\": \"h\"}, \"template\": {\"data\": {\"bar\": [{\"error_x\": {\"color\": \"#2a3f5f\"}, \"error_y\": {\"color\": \"#2a3f5f\"}, \"marker\": {\"line\": {\"color\": \"#E5ECF6\", \"width\": 0.5}}, \"type\": \"bar\"}], \"barpolar\": [{\"marker\": {\"line\": {\"color\": \"#E5ECF6\", \"width\": 0.5}}, \"type\": \"barpolar\"}], \"carpet\": [{\"aaxis\": {\"endlinecolor\": \"#2a3f5f\", \"gridcolor\": \"white\", \"linecolor\": \"white\", \"minorgridcolor\": \"white\", \"startlinecolor\": \"#2a3f5f\"}, \"baxis\": {\"endlinecolor\": \"#2a3f5f\", \"gridcolor\": \"white\", \"linecolor\": \"white\", \"minorgridcolor\": \"white\", \"startlinecolor\": \"#2a3f5f\"}, \"type\": \"carpet\"}], \"choropleth\": [{\"colorbar\": {\"outlinewidth\": 0, \"ticks\": \"\"}, \"type\": \"choropleth\"}], \"contour\": [{\"colorbar\": {\"outlinewidth\": 0, \"ticks\": \"\"}, \"colorscale\": [[0.0, \"#0d0887\"], [0.1111111111111111, \"#46039f\"], [0.2222222222222222, \"#7201a8\"], [0.3333333333333333, \"#9c179e\"], [0.4444444444444444, \"#bd3786\"], [0.5555555555555556, \"#d8576b\"], [0.6666666666666666, \"#ed7953\"], [0.7777777777777778, \"#fb9f3a\"], [0.8888888888888888, \"#fdca26\"], [1.0, \"#f0f921\"]], \"type\": \"contour\"}], \"contourcarpet\": [{\"colorbar\": {\"outlinewidth\": 0, \"ticks\": \"\"}, \"type\": \"contourcarpet\"}], \"heatmap\": [{\"colorbar\": {\"outlinewidth\": 0, \"ticks\": \"\"}, \"colorscale\": [[0.0, \"#0d0887\"], [0.1111111111111111, \"#46039f\"], [0.2222222222222222, \"#7201a8\"], [0.3333333333333333, \"#9c179e\"], [0.4444444444444444, \"#bd3786\"], [0.5555555555555556, \"#d8576b\"], [0.6666666666666666, \"#ed7953\"], [0.7777777777777778, \"#fb9f3a\"], [0.8888888888888888, \"#fdca26\"], [1.0, \"#f0f921\"]], \"type\": \"heatmap\"}], \"heatmapgl\": [{\"colorbar\": {\"outlinewidth\": 0, \"ticks\": \"\"}, \"colorscale\": [[0.0, \"#0d0887\"], [0.1111111111111111, \"#46039f\"], [0.2222222222222222, \"#7201a8\"], [0.3333333333333333, \"#9c179e\"], [0.4444444444444444, \"#bd3786\"], [0.5555555555555556, \"#d8576b\"], [0.6666666666666666, \"#ed7953\"], [0.7777777777777778, \"#fb9f3a\"], [0.8888888888888888, \"#fdca26\"], [1.0, \"#f0f921\"]], \"type\": \"heatmapgl\"}], \"histogram\": [{\"marker\": {\"colorbar\": {\"outlinewidth\": 0, \"ticks\": \"\"}}, \"type\": \"histogram\"}], \"histogram2d\": [{\"colorbar\": {\"outlinewidth\": 0, \"ticks\": \"\"}, \"colorscale\": [[0.0, \"#0d0887\"], [0.1111111111111111, \"#46039f\"], [0.2222222222222222, \"#7201a8\"], [0.3333333333333333, \"#9c179e\"], [0.4444444444444444, \"#bd3786\"], [0.5555555555555556, \"#d8576b\"], [0.6666666666666666, \"#ed7953\"], [0.7777777777777778, \"#fb9f3a\"], [0.8888888888888888, \"#fdca26\"], [1.0, \"#f0f921\"]], \"type\": \"histogram2d\"}], \"histogram2dcontour\": [{\"colorbar\": {\"outlinewidth\": 0, \"ticks\": \"\"}, \"colorscale\": [[0.0, \"#0d0887\"], [0.1111111111111111, \"#46039f\"], [0.2222222222222222, \"#7201a8\"], [0.3333333333333333, \"#9c179e\"], [0.4444444444444444, \"#bd3786\"], [0.5555555555555556, \"#d8576b\"], [0.6666666666666666, \"#ed7953\"], [0.7777777777777778, \"#fb9f3a\"], [0.8888888888888888, \"#fdca26\"], [1.0, \"#f0f921\"]], \"type\": \"histogram2dcontour\"}], \"mesh3d\": [{\"colorbar\": {\"outlinewidth\": 0, \"ticks\": \"\"}, \"type\": \"mesh3d\"}], \"parcoords\": [{\"line\": {\"colorbar\": {\"outlinewidth\": 0, \"ticks\": \"\"}}, \"type\": \"parcoords\"}], \"pie\": [{\"automargin\": true, \"type\": \"pie\"}], \"scatter\": [{\"marker\": {\"colorbar\": {\"outlinewidth\": 0, \"ticks\": \"\"}}, \"type\": \"scatter\"}], \"scatter3d\": [{\"line\": {\"colorbar\": {\"outlinewidth\": 0, \"ticks\": \"\"}}, \"marker\": {\"colorbar\": {\"outlinewidth\": 0, \"ticks\": \"\"}}, \"type\": \"scatter3d\"}], \"scattercarpet\": [{\"marker\": {\"colorbar\": {\"outlinewidth\": 0, \"ticks\": \"\"}}, \"type\": \"scattercarpet\"}], \"scattergeo\": [{\"marker\": {\"colorbar\": {\"outlinewidth\": 0, \"ticks\": \"\"}}, \"type\": \"scattergeo\"}], \"scattergl\": [{\"marker\": {\"colorbar\": {\"outlinewidth\": 0, \"ticks\": \"\"}}, \"type\": \"scattergl\"}], \"scattermapbox\": [{\"marker\": {\"colorbar\": {\"outlinewidth\": 0, \"ticks\": \"\"}}, \"type\": \"scattermapbox\"}], \"scatterpolar\": [{\"marker\": {\"colorbar\": {\"outlinewidth\": 0, \"ticks\": \"\"}}, \"type\": \"scatterpolar\"}], \"scatterpolargl\": [{\"marker\": {\"colorbar\": {\"outlinewidth\": 0, \"ticks\": \"\"}}, \"type\": \"scatterpolargl\"}], \"scatterternary\": [{\"marker\": {\"colorbar\": {\"outlinewidth\": 0, \"ticks\": \"\"}}, \"type\": \"scatterternary\"}], \"surface\": [{\"colorbar\": {\"outlinewidth\": 0, \"ticks\": \"\"}, \"colorscale\": [[0.0, \"#0d0887\"], [0.1111111111111111, \"#46039f\"], [0.2222222222222222, \"#7201a8\"], [0.3333333333333333, \"#9c179e\"], [0.4444444444444444, \"#bd3786\"], [0.5555555555555556, \"#d8576b\"], [0.6666666666666666, \"#ed7953\"], [0.7777777777777778, \"#fb9f3a\"], [0.8888888888888888, \"#fdca26\"], [1.0, \"#f0f921\"]], \"type\": \"surface\"}], \"table\": [{\"cells\": {\"fill\": {\"color\": \"#EBF0F8\"}, \"line\": {\"color\": \"white\"}}, \"header\": {\"fill\": {\"color\": \"#C8D4E3\"}, \"line\": {\"color\": \"white\"}}, \"type\": \"table\"}]}, \"layout\": {\"annotationdefaults\": {\"arrowcolor\": \"#2a3f5f\", \"arrowhead\": 0, \"arrowwidth\": 1}, \"coloraxis\": {\"colorbar\": {\"outlinewidth\": 0, \"ticks\": \"\"}}, \"colorscale\": {\"diverging\": [[0, \"#8e0152\"], [0.1, \"#c51b7d\"], [0.2, \"#de77ae\"], [0.3, \"#f1b6da\"], [0.4, \"#fde0ef\"], [0.5, \"#f7f7f7\"], [0.6, \"#e6f5d0\"], [0.7, \"#b8e186\"], [0.8, \"#7fbc41\"], [0.9, \"#4d9221\"], [1, \"#276419\"]], \"sequential\": [[0.0, \"#0d0887\"], [0.1111111111111111, \"#46039f\"], [0.2222222222222222, \"#7201a8\"], [0.3333333333333333, \"#9c179e\"], [0.4444444444444444, \"#bd3786\"], [0.5555555555555556, \"#d8576b\"], [0.6666666666666666, \"#ed7953\"], [0.7777777777777778, \"#fb9f3a\"], [0.8888888888888888, \"#fdca26\"], [1.0, \"#f0f921\"]], \"sequentialminus\": [[0.0, \"#0d0887\"], [0.1111111111111111, \"#46039f\"], [0.2222222222222222, \"#7201a8\"], [0.3333333333333333, \"#9c179e\"], [0.4444444444444444, \"#bd3786\"], [0.5555555555555556, \"#d8576b\"], [0.6666666666666666, \"#ed7953\"], [0.7777777777777778, \"#fb9f3a\"], [0.8888888888888888, \"#fdca26\"], [1.0, \"#f0f921\"]]}, \"colorway\": [\"#636efa\", \"#EF553B\", \"#00cc96\", \"#ab63fa\", \"#FFA15A\", \"#19d3f3\", \"#FF6692\", \"#B6E880\", \"#FF97FF\", \"#FECB52\"], \"font\": {\"color\": \"#2a3f5f\"}, \"geo\": {\"bgcolor\": \"white\", \"lakecolor\": \"white\", \"landcolor\": \"#E5ECF6\", \"showlakes\": true, \"showland\": true, \"subunitcolor\": \"white\"}, \"hoverlabel\": {\"align\": \"left\"}, \"hovermode\": \"closest\", \"mapbox\": {\"style\": \"light\"}, \"paper_bgcolor\": \"white\", \"plot_bgcolor\": \"#E5ECF6\", \"polar\": {\"angularaxis\": {\"gridcolor\": \"white\", \"linecolor\": \"white\", \"ticks\": \"\"}, \"bgcolor\": \"#E5ECF6\", \"radialaxis\": {\"gridcolor\": \"white\", \"linecolor\": \"white\", \"ticks\": \"\"}}, \"scene\": {\"xaxis\": {\"backgroundcolor\": \"#E5ECF6\", \"gridcolor\": \"white\", \"gridwidth\": 2, \"linecolor\": \"white\", \"showbackground\": true, \"ticks\": \"\", \"zerolinecolor\": \"white\"}, \"yaxis\": {\"backgroundcolor\": \"#E5ECF6\", \"gridcolor\": \"white\", \"gridwidth\": 2, \"linecolor\": \"white\", \"showbackground\": true, \"ticks\": \"\", \"zerolinecolor\": \"white\"}, \"zaxis\": {\"backgroundcolor\": \"#E5ECF6\", \"gridcolor\": \"white\", \"gridwidth\": 2, \"linecolor\": \"white\", \"showbackground\": true, \"ticks\": \"\", \"zerolinecolor\": \"white\"}}, \"shapedefaults\": {\"line\": {\"color\": \"#2a3f5f\"}}, \"ternary\": {\"aaxis\": {\"gridcolor\": \"white\", \"linecolor\": \"white\", \"ticks\": \"\"}, \"baxis\": {\"gridcolor\": \"white\", \"linecolor\": \"white\", \"ticks\": \"\"}, \"bgcolor\": \"#E5ECF6\", \"caxis\": {\"gridcolor\": \"white\", \"linecolor\": \"white\", \"ticks\": \"\"}}, \"title\": {\"x\": 0.05}, \"xaxis\": {\"automargin\": true, \"gridcolor\": \"white\", \"linecolor\": \"white\", \"ticks\": \"\", \"title\": {\"standoff\": 15}, \"zerolinecolor\": \"white\", \"zerolinewidth\": 2}, \"yaxis\": {\"automargin\": true, \"gridcolor\": \"white\", \"linecolor\": \"white\", \"ticks\": \"\", \"title\": {\"standoff\": 15}, \"zerolinecolor\": \"white\", \"zerolinewidth\": 2}}}, \"yaxis\": {\"tickformat\": \",.0f\", \"title\": {\"text\": \"Base token amounts\"}}},\n",
              "                        {\"responsive\": true}\n",
              "                    ).then(function(){\n",
              "                            \n",
              "var gd = document.getElementById('53db9211-f3ce-440f-be3c-2f1ba217c134');\n",
              "var x = new MutationObserver(function (mutations, observer) {{\n",
              "        var display = window.getComputedStyle(gd).display;\n",
              "        if (!display || display === 'none') {{\n",
              "            console.log([gd, 'removed!']);\n",
              "            Plotly.purge(gd);\n",
              "            observer.disconnect();\n",
              "        }}\n",
              "}});\n",
              "\n",
              "// Listen for the removal of the full notebook cells\n",
              "var notebookContainer = gd.closest('#notebook-container');\n",
              "if (notebookContainer) {{\n",
              "    x.observe(notebookContainer, {childList: true});\n",
              "}}\n",
              "\n",
              "// Listen for the clearing of the current output cell\n",
              "var outputEl = gd.closest('.output');\n",
              "if (outputEl) {{\n",
              "    x.observe(outputEl, {childList: true});\n",
              "}}\n",
              "\n",
              "                        })\n",
              "                };\n",
              "                \n",
              "            </script>\n",
              "        </div>\n",
              "</body>\n",
              "</html>"
            ]
          },
          "metadata": {
            "tags": []
          }
        }
      ]
    },
    {
      "cell_type": "code",
      "metadata": {
        "id": "KRzNIh5fSQuB"
      },
      "source": [
        "p_title(\"All trades in period\")\n",
        "pd.set_option(\"display.max_rows\", None)\n",
        "df_trades"
      ],
      "execution_count": null,
      "outputs": []
    }
  ]
}